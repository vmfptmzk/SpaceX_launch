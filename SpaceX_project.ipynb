{
 "cells": [
  {
   "cell_type": "markdown",
   "id": "b5745fc3-68e3-4684-b5ec-ea3013311249",
   "metadata": {},
   "source": [
    "# **SpaceX  Falcon 9 first stage Landing Prediction**"
   ]
  },
  {
   "cell_type": "markdown",
   "id": "1636044b-d676-4d7f-a1e8-32df93723616",
   "metadata": {},
   "source": [
    "# Intro"
   ]
  },
  {
   "cell_type": "markdown",
   "id": "923ec05c-036a-4d0a-b204-e30411565267",
   "metadata": {},
   "source": [
    "The purpose of this project is to predict if the Falcon 9 first stage will land successfully. SpaceX advertises Falcon 9 rocket launches on its website with a cost of 62 million dollars while the other companies estimated the cost upward of 165 million dollars, the amount of the difference is because SpaceX can reuse the first stage. Therefore if I can predict if the first stage will land, then the other companies can determine the cost of a launch based on my findings, and can use this information can be used to bid against SpaceX for a rocket launch."
   ]
  },
  {
   "cell_type": "markdown",
   "id": "dda15785-f724-456f-b4e7-69affdb1a5e6",
   "metadata": {},
   "source": [
    "# Phase 1: Collecting the data"
   ]
  },
  {
   "cell_type": "markdown",
   "id": "ccf19ed1-5163-4d21-85dd-2875c5214dc6",
   "metadata": {},
   "source": [
    "In Phase 1, I will make a get request to the SpaceX API. I will also do some basic data wrangling and formating.\n",
    "\n",
    "*   Request to the SpaceX API\n",
    "*   Clean the requested data"
   ]
  },
  {
   "cell_type": "markdown",
   "id": "d7fe9abc-e72d-4af1-b8b8-731aee6e6970",
   "metadata": {},
   "source": [
    "## Import Libraries and Define Auxiliary Functions\n"
   ]
  },
  {
   "cell_type": "code",
   "execution_count": 2,
   "id": "db2b54d0-485b-4cf7-a519-45ab134c4739",
   "metadata": {},
   "outputs": [],
   "source": [
    "import requests\n",
    "import pandas as pd\n",
    "import numpy as np\n",
    "import datetime\n",
    "\n",
    "pd.set_option('display.max_columns', None)\n",
    "pd.set_option('display.max_colwidth', None)"
   ]
  },
  {
   "cell_type": "markdown",
   "id": "00c8a523-47d8-4e0b-b529-fee45542d71b",
   "metadata": {},
   "source": [
    "Next, I will define a series of helper functions that will help me to use the API to extract information using identification numbers in the launch data.\n",
    "\n",
    "From the rocket column we would like to learn the booster name."
   ]
  },
  {
   "cell_type": "code",
   "execution_count": 4,
   "id": "8a5fe025-158f-4ec5-87c2-c82cc03614ae",
   "metadata": {},
   "outputs": [],
   "source": [
    "def getBoosterVersion(data):\n",
    "    for x in data['rocket']:\n",
    "        response = requests.get(\"https://api.spacexdata.com/v4/rockets/\"+str(x)).json()\n",
    "        BoosterVersion.append(response['name'])"
   ]
  },
  {
   "cell_type": "markdown",
   "id": "1896dc0c-740f-4da8-a369-a7e819aabd88",
   "metadata": {},
   "source": [
    "From the launchpad we would like to know the name of the launch site being used, the logitude, and the latitude."
   ]
  },
  {
   "cell_type": "code",
   "execution_count": null,
   "id": "ec8129e6-1a44-4b6a-903b-ade0bb238960",
   "metadata": {},
   "outputs": [],
   "source": []
  }
 ],
 "metadata": {
  "kernelspec": {
   "display_name": "Python 3 (ipykernel)",
   "language": "python",
   "name": "python3"
  },
  "language_info": {
   "codemirror_mode": {
    "name": "ipython",
    "version": 3
   },
   "file_extension": ".py",
   "mimetype": "text/x-python",
   "name": "python",
   "nbconvert_exporter": "python",
   "pygments_lexer": "ipython3",
   "version": "3.9.6"
  }
 },
 "nbformat": 4,
 "nbformat_minor": 5
}
